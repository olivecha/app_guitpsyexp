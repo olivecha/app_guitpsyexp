{
 "cells": [
  {
   "cell_type": "code",
   "execution_count": 1,
   "id": "5aea0080",
   "metadata": {},
   "outputs": [],
   "source": [
    "import guitarsounds"
   ]
  },
  {
   "cell_type": "code",
   "execution_count": 2,
   "id": "65276c39",
   "metadata": {},
   "outputs": [
    {
     "data": {
      "application/vnd.jupyter.widget-view+json": {
       "model_id": "c2261323da4046e68993ad465ff2bc1c",
       "version_major": 2,
       "version_minor": 0
      },
      "text/plain": [
       "Box(children=(Button(description='Single Sound', style=ButtonStyle()), Button(description='Dual Sounds', style…"
      ]
     },
     "metadata": {},
     "output_type": "display_data"
    }
   ],
   "source": [
    "_ = guitarsounds.Interface()"
   ]
  },
  {
   "cell_type": "code",
   "execution_count": null,
   "id": "a039dcc1",
   "metadata": {},
   "outputs": [],
   "source": []
  }
 ],
 "metadata": {
  "kernelspec": {
   "display_name": "Python 3 (ipykernel)",
   "language": "python",
   "name": "python3"
  },
  "language_info": {
   "codemirror_mode": {
    "name": "ipython",
    "version": 3
   },
   "file_extension": ".py",
   "mimetype": "text/x-python",
   "name": "python",
   "nbconvert_exporter": "python",
   "pygments_lexer": "ipython3",
   "version": "3.10.6"
  }
 },
 "nbformat": 4,
 "nbformat_minor": 5
}
